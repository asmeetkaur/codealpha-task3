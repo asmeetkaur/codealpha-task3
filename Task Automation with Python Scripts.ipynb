{
 "cells": [
  {
   "cell_type": "code",
   "execution_count": 2,
   "id": "bc6885b1",
   "metadata": {},
   "outputs": [
    {
     "name": "stdout",
     "output_type": "stream",
     "text": [
      "Files organized successfully!\n"
     ]
    }
   ],
   "source": [
    "import os\n",
    "import shutil\n",
    "\n",
    "# Function to organize files in a directory\n",
    "def organize_files(source_dir, destination_dir):\n",
    "    # Create destination directory if it doesn't exist\n",
    "    if not os.path.exists(destination_dir):\n",
    "        os.makedirs(destination_dir)\n",
    "\n",
    "    # List all files in the source directory\n",
    "    files = os.listdir(source_dir)\n",
    "\n",
    "    # Iterate through each file\n",
    "    for file in files:\n",
    "        # Ignore directories\n",
    "        if os.path.isdir(os.path.join(source_dir, file)):\n",
    "            continue\n",
    "        \n",
    "        # Split filename and extension\n",
    "        filename, extension = os.path.splitext(file)\n",
    "\n",
    "        # Define categories based on file extensions\n",
    "        categories = {\n",
    "            \".txt\": \"TextFiles\",\n",
    "            \".csv\": \"CSVFiles\",\n",
    "            \".xlsx\": \"ExcelFiles\",\n",
    "            \".jpg\": \"ImageFiles\",\n",
    "            \".pdf\": \"PDFFiles\",\n",
    "            \".zip\": \"ZipFiles\",\n",
    "            \".docx\": \"WordFiles\"\n",
    "        }\n",
    "\n",
    "        # Determine category based on file extension\n",
    "        category = \"Other\"\n",
    "        for ext, cat in categories.items():\n",
    "            if extension.lower() == ext:\n",
    "                category = cat\n",
    "                break\n",
    "\n",
    "        # Rename file to remove spaces and special characters\n",
    "        new_filename = filename.replace(\" \", \"_\").replace(\"-\", \"_\").replace(\"(\", \"\").replace(\")\", \"\") + extension\n",
    "\n",
    "        # Create category directory if it doesn't exist\n",
    "        category_dir = os.path.join(destination_dir, category)\n",
    "        if not os.path.exists(category_dir):\n",
    "            os.makedirs(category_dir)\n",
    "\n",
    "        # Move the file to the appropriate category directory\n",
    "        shutil.move(os.path.join(source_dir, file), os.path.join(category_dir, new_filename))\n",
    "\n",
    "    print(\"Files organized successfully!\")\n",
    "\n",
    "# Example usage\n",
    "source_directory = r\"C:\\Users\\lenovo\\OneDrive\\Desktop\"\n",
    "destination_directory = r\"E:\\asmeet\"\n",
    "organize_files(source_directory, destination_directory)"
   ]
  },
  {
   "cell_type": "code",
   "execution_count": null,
   "id": "37494ed6",
   "metadata": {},
   "outputs": [],
   "source": []
  }
 ],
 "metadata": {
  "kernelspec": {
   "display_name": "Python 3 (ipykernel)",
   "language": "python",
   "name": "python3"
  },
  "language_info": {
   "codemirror_mode": {
    "name": "ipython",
    "version": 3
   },
   "file_extension": ".py",
   "mimetype": "text/x-python",
   "name": "python",
   "nbconvert_exporter": "python",
   "pygments_lexer": "ipython3",
   "version": "3.11.5"
  }
 },
 "nbformat": 4,
 "nbformat_minor": 5
}
